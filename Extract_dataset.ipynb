{
  "nbformat": 4,
  "nbformat_minor": 0,
  "metadata": {
    "colab": {
      "name": "Extract_dataset.ipynb",
      "version": "0.3.2",
      "provenance": [],
      "collapsed_sections": [],
      "include_colab_link": true
    },
    "kernelspec": {
      "name": "python3",
      "display_name": "Python 3"
    },
    "accelerator": "GPU"
  },
  "cells": [
    {
      "cell_type": "markdown",
      "metadata": {
        "id": "view-in-github",
        "colab_type": "text"
      },
      "source": [
        "[View in Colaboratory](https://colab.research.google.com/github/nifred/Champypy/blob/master/Extract_dataset.ipynb)"
      ]
    },
    {
      "metadata": {
        "id": "Oznhkndrsirg",
        "colab_type": "text"
      },
      "cell_type": "markdown",
      "source": [
        "# Mount Google Drive\n",
        "\n",
        "To get the images in view to make a pixels dataset you have to mount your google drive.\n",
        "The picture data set is composed of 95 classes of mushrooms with an average of 300 pictures by class.\n",
        "\n",
        "You can get the data set at thi URL: [DataSet_x500](https://drive.google.com/drive/folders/1nSjnoPWv0QvijOqE4xi82CkDUpZUFcFn?usp=sharing)\n",
        "\n",
        "To use this script you have to add this shared folder to your Google Drive."
      ]
    },
    {
      "metadata": {
        "id": "xCFxpu6tpZ5s",
        "colab_type": "code",
        "colab": {
          "base_uri": "https://localhost:8080/",
          "height": 109
        },
        "outputId": "7c26d9bc-fcb1-4095-af4e-b91b3f75e428"
      },
      "cell_type": "code",
      "source": [
        "from google.colab import drive\n",
        "drive.mount('/gdrive')"
      ],
      "execution_count": 1,
      "outputs": [
        {
          "output_type": "stream",
          "text": [
            "Go to this URL in a browser: https://accounts.google.com/o/oauth2/auth?client_id=947318989803-6bn6qk8qdgf4n4g3pfee6491hc0brc4i.apps.googleusercontent.com&redirect_uri=urn%3Aietf%3Awg%3Aoauth%3A2.0%3Aoob&scope=email%20https%3A%2F%2Fwww.googleapis.com%2Fauth%2Fdocs.test%20https%3A%2F%2Fwww.googleapis.com%2Fauth%2Fdrive%20https%3A%2F%2Fwww.googleapis.com%2Fauth%2Fdrive.photos.readonly%20https%3A%2F%2Fwww.googleapis.com%2Fauth%2Fpeopleapi.readonly&response_type=code\n",
            "Enter your authorization code:\n",
            "··········\n",
            "Mounted at /gdrive\n"
          ],
          "name": "stdout"
        }
      ]
    },
    {
      "metadata": {
        "id": "C8EF3g9RtHwL",
        "colab_type": "text"
      },
      "cell_type": "markdown",
      "source": [
        "# Import librairies\n",
        "\n",
        "To manage the pictures you had to import OpenCV (cv2),  os, pandas then numpy"
      ]
    },
    {
      "metadata": {
        "id": "30JhoplJqJ_u",
        "colab_type": "code",
        "colab": {}
      },
      "cell_type": "code",
      "source": [
        "import cv2\n",
        "import os\n",
        "import pandas as pd\n",
        "import numpy as np"
      ],
      "execution_count": 0,
      "outputs": []
    },
    {
      "metadata": {
        "id": "0STNdRMQtZtd",
        "colab_type": "text"
      },
      "cell_type": "markdown",
      "source": [
        "# Code section"
      ]
    },
    {
      "metadata": {
        "id": "WVS2FZ6ctmWd",
        "colab_type": "text"
      },
      "cell_type": "markdown",
      "source": [
        "## Function image_list\n",
        "\n",
        "It is in charge of getting path of each pictures from the data set"
      ]
    },
    {
      "metadata": {
        "id": "OkOcr7DuqL-H",
        "colab_type": "code",
        "colab": {}
      },
      "cell_type": "code",
      "source": [
        "def image_list(path):\n",
        "    img_path = []\n",
        "    for dirs, subdirs, files in os.walk(path):\n",
        "        for file in files:\n",
        "            if os.path.splitext(file)[1].lower() in ('.jpg', '.jpeg'):\n",
        "                img_path.append(os.path.join(dirs, file))\n",
        "    return img_path"
      ],
      "execution_count": 0,
      "outputs": []
    },
    {
      "metadata": {
        "id": "2W7v4iQ2t7i_",
        "colab_type": "text"
      },
      "cell_type": "markdown",
      "source": [
        "## Function convert_image\n",
        "\n",
        "It is in charge of convert pictures to a list of numpy arrays of pixels and append eache picture classes in a list"
      ]
    },
    {
      "metadata": {
        "id": "ZHipklYeqNWY",
        "colab_type": "code",
        "colab": {}
      },
      "cell_type": "code",
      "source": [
        "def convert_image(pathname):\n",
        "    classes = []\n",
        "    list_image = []\n",
        "    for img in pathname:\n",
        "        try:\n",
        "            image = cv2.imread(img, -1)\n",
        "            image = cv2.cvtColor(image, cv2.COLOR_BGR2RGB)\n",
        "            image = cv2.resize(image,(40,40))\n",
        "            if len(image.shape) == 3:\n",
        "                if image.shape[2] == 3:\n",
        "                    image = image.reshape(\n",
        "                            image.shape[0]*image.shape[1]*image.shape[2]\n",
        "                    )\n",
        "                    list_image.append(image)\n",
        "                    if img.__contains__('\\\\'):\n",
        "                        classes.append(img.split('\\\\')[-2])\n",
        "                    else:\n",
        "                        classes.append(img.split('/')[-2])\n",
        "        except Exception as e:\n",
        "            print(e, img)\n",
        "    return list_image, classes"
      ],
      "execution_count": 0,
      "outputs": []
    },
    {
      "metadata": {
        "id": "LQPDLp2NuaKA",
        "colab_type": "text"
      },
      "cell_type": "markdown",
      "source": [
        "## Execution part\n",
        "\n",
        "This part is in charge of assigned the picture data set path to a variable and the pixels converted dataset path output\n",
        "To execute the functions above and save the converted dataset as a pickle file."
      ]
    },
    {
      "metadata": {
        "id": "Ut-S2v0XqGVk",
        "colab_type": "code",
        "colab": {
          "base_uri": "https://localhost:8080/",
          "height": 415
        },
        "outputId": "12880e99-63b0-42a9-ced2-7fef169bfb73"
      },
      "cell_type": "code",
      "source": [
        "\n",
        "dir_path = '/gdrive/My Drive/DataSet_x500/'\n",
        "\n",
        "dataset_path ='/gdrive/My Drive/dataSet_x500_40x40.data'\n",
        "\n",
        "pathname = image_list(dir_path)\n",
        "print('%s pictures' % len(pathname))\n",
        "\n",
        "list_image, classes = convert_image(pathname)\n",
        "df_image = pd.DataFrame(np.asarray(list_image))\n",
        "df_image['classes'] = classes\n",
        "df_image.to_pickle(dataset_path)\n"
      ],
      "execution_count": 5,
      "outputs": [
        {
          "output_type": "stream",
          "text": [
            "23766 pictures\n",
            "OpenCV(3.4.3) /io/opencv/modules/imgproc/src/color.hpp:255: error: (-2:Unspecified error) in function 'cv::CvtHelper<VScn, VDcn, VDepth, sizePolicy>::CvtHelper(cv::InputArray, cv::OutputArray, int) [with VScn = cv::Set<3, 4>; VDcn = cv::Set<3, 4>; VDepth = cv::Set<0, 2, 5>; cv::SizePolicy sizePolicy = (cv::SizePolicy)2u; cv::InputArray = const cv::_InputArray&; cv::OutputArray = const cv::_OutputArray&]'\n",
            "> Invalid number of channels in input image:\n",
            ">     'VScn::contains(scn)'\n",
            "> where\n",
            ">     'scn' is 1\n",
            " /gdrive/My Drive/DataSet_x500/Strobilomyces strobilaceus/390. figure-178-strobilomyces-strobilaceus.jpg\n",
            "OpenCV(3.4.3) /io/opencv/modules/imgproc/src/color.cpp:181: error: (-215:Assertion failed) !_src.empty() in function 'cvtColor'\n",
            " /gdrive/My Drive/DataSet_x500/Hygrophorus eburneus/313. edible-hygrophorus-eburneus-mushrooms-vancouver-mushrooms-fall-show-vandusen-edible-379139222.jpg\n",
            "OpenCV(3.4.3) /io/opencv/modules/imgproc/src/color.hpp:255: error: (-2:Unspecified error) in function 'cv::CvtHelper<VScn, VDcn, VDepth, sizePolicy>::CvtHelper(cv::InputArray, cv::OutputArray, int) [with VScn = cv::Set<3, 4>; VDcn = cv::Set<3, 4>; VDepth = cv::Set<0, 2, 5>; cv::SizePolicy sizePolicy = (cv::SizePolicy)2u; cv::InputArray = const cv::_InputArray&; cv::OutputArray = const cv::_OutputArray&]'\n",
            "> Invalid number of channels in input image:\n",
            ">     'VScn::contains(scn)'\n",
            "> where\n",
            ">     'scn' is 1\n",
            " /gdrive/My Drive/DataSet_x500/Coprinus micaceus/356. figure-43-coprinus-micaceus-young-stage-showing-annulus-o.jpg\n",
            "OpenCV(3.4.3) /io/opencv/modules/imgproc/src/color.hpp:255: error: (-2:Unspecified error) in function 'cv::CvtHelper<VScn, VDcn, VDepth, sizePolicy>::CvtHelper(cv::InputArray, cv::OutputArray, int) [with VScn = cv::Set<3, 4>; VDcn = cv::Set<3, 4>; VDepth = cv::Set<0, 2, 5>; cv::SizePolicy sizePolicy = (cv::SizePolicy)2u; cv::InputArray = const cv::_InputArray&; cv::OutputArray = const cv::_OutputArray&]'\n",
            "> Invalid number of channels in input image:\n",
            ">     'VScn::contains(scn)'\n",
            "> where\n",
            ">     'scn' is 1\n",
            " /gdrive/My Drive/DataSet_x500/Amanita citrina/353. lavendula_coker590_syntype_wb.jpg\n"
          ],
          "name": "stdout"
        }
      ]
    }
  ]
}